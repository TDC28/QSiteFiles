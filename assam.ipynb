{
 "cells": [
  {
   "cell_type": "code",
   "execution_count": 1,
   "metadata": {},
   "outputs": [],
   "source": [
    "from classiq import * \n",
    "import math "
   ]
  },
  {
   "cell_type": "code",
   "execution_count": null,
   "metadata": {},
   "outputs": [],
   "source": [
    "# TODO Initialize ancilla registers with the correct quantum states\n",
    "# NOTE Our b vector is zero, therefore C-V_S2 and C-U_b do not need to be implemented, but could be for future purposes\n",
    "\n",
    "K = 10 # Accuracy of solution - subject to change\n",
    "T = math.ceil(math.log2(K+1))\n",
    "t = 0 # Time of evaluation of output\n",
    "\n",
    "print(\"Register sizes:\", 1, T, 1)\n",
    "\n",
    "# TODO Create the gate C-V_S1 and apply it to prepare the ancilla qubits\n",
    "@qfunc\n",
    "def prepare_ancilla_regs(ancilla_reg_1: QBit, ancilla_reg_2: QBit):\n",
    "   Z(ancilla_reg_1)\n",
    "   \n",
    "   pass \n",
    "\n",
    "\n",
    "   \n",
    "\n",
    "# TODO Create the gate C-Ux and apply it to encode |x0> into the work register\n",
    "@qfunc\n",
    "def encode_x0(ancilla_reg_1: QBit, work_reg: QBit):\n",
    "   pass\n",
    "\n",
    "@qfunc\n",
    "def apply_ui(iteration: CInt, ancilla_reg_2: QNum, work_reg: QBit):\n",
    "   control(ctrl=(ancilla_reg_2 == iteration), stmt_block=lambda: Y(work_reg))\n",
    "\n",
    "@qfunc\n",
    "def decode():\n",
    "   pass\n",
    "\n",
    "@qfunc\n",
    "def main(ancilla_reg_1: Output[QBit], ancilla_reg_2: Output[QNum], work_reg: Output[QBit]):\n",
    "   allocate(1, ancilla_reg_1)\n",
    "   allocate(T, ancilla_reg_2)\n",
    "   allocate(1, work_reg) # 2x2 matrix, will change for higher order ODEs if we get to it\n",
    "   \n",
    "   # prepare_ancilla_regs(ancilla_reg_1, ancilla_reg_2)\n",
    "   # encode_x0(ancilla_reg_1, work_reg)\n",
    "\n",
    "   repeat(count=K+1, iteration=lambda i: if_(condition=(i % 2 != 0), then=lambda: apply_ui(i, ancilla_reg_2, work_reg)))\n"
   ]
  },
  {
   "cell_type": "code",
   "execution_count": null,
   "metadata": {},
   "outputs": [],
   "source": [
    "# View circuit on Classiq IDE\n",
    "qmod = create_model(main)\n",
    "qprog = synthesize(qmod)\n",
    "show(qprog)"
   ]
  },
  {
   "cell_type": "markdown",
   "metadata": {},
   "source": [
    "### Encoding\n"
   ]
  },
  {
   "cell_type": "code",
   "execution_count": 3,
   "metadata": {},
   "outputs": [
    {
     "ename": "SyntaxError",
     "evalue": "invalid syntax (331670662.py, line 3)",
     "output_type": "error",
     "traceback": [
      "\u001b[1;36m  Cell \u001b[1;32mIn[3], line 3\u001b[1;36m\u001b[0m\n\u001b[1;33m    Need Log_2 N work qubits.\u001b[0m\n\u001b[1;37m         ^\u001b[0m\n\u001b[1;31mSyntaxError\u001b[0m\u001b[1;31m:\u001b[0m invalid syntax\n"
     ]
    }
   ],
   "source": [
    "# #Log base 2 (N) work qubits needed to encode the N-dimensional vectors |x(0)>\n",
    "\n",
    "# Need Log_2 N work qubits. \n",
    "\n",
    "# vector x and vector b are preped and stored by the work qubits \n",
    "\n",
    "\n",
    "\n",
    "\n",
    "\n",
    "k = 7 \n",
    "T = math.ceil(math.log(k+1, 2))\n",
    "\n",
    "@qfunc \n",
    "\n"
   ]
  },
  {
   "cell_type": "code",
   "execution_count": null,
   "metadata": {},
   "outputs": [],
   "source": []
  },
  {
   "cell_type": "code",
   "execution_count": null,
   "metadata": {},
   "outputs": [],
   "source": []
  }
 ],
 "metadata": {
  "kernelspec": {
   "display_name": "Python 3",
   "language": "python",
   "name": "python3"
  },
  "language_info": {
   "codemirror_mode": {
    "name": "ipython",
    "version": 3
   },
   "file_extension": ".py",
   "mimetype": "text/x-python",
   "name": "python",
   "nbconvert_exporter": "python",
   "pygments_lexer": "ipython3",
   "version": "3.12.1"
  }
 },
 "nbformat": 4,
 "nbformat_minor": 2
}
