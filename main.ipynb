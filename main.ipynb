{
 "cells": [
  {
   "cell_type": "code",
   "execution_count": 139,
   "metadata": {},
   "outputs": [],
   "source": [
    "from classiq import *\n",
    "import math"
   ]
  },
  {
   "cell_type": "markdown",
   "metadata": {},
   "source": [
    "# Superposition Squad\n",
    "\n",
    "This project is inspired by Tao Xin et al.'s paper published in 2020, \"Quantum algorithm for solving linear differential equations: Theory and experiment\" \n",
    "\n",
    "Tao Xin et al. provide a quantum algorithm to solve such linear differential equations in O(log(n)) time, exponentially faster than the classical time. \n",
    "\n",
    "In this notebook, we apply the their algorithim framework to solve the following differential equation:\n",
    "\n",
    "DE: $y'' + y  = 0$ -> $\\mathcal{M} = \\begin{bmatrix} 0 & 1\\\\ -1 & 0 \\end{bmatrix} $, $x(0) = \\begin{bmatrix} 1 \\\\ 1 \\end{bmatrix}$"
   ]
  },
  {
   "cell_type": "markdown",
   "metadata": {},
   "source": [
    "Here, we present and\n",
    "experimentally realize an implementable gate-based quantum algorithm for efficiently solving the LDE problem:\n",
    "given an N × N matrixM, an N-dimensional vector b, and an initial vector x(0), we obtain a target vector x(t) as\n",
    "a function of time t according to the constraint dx(t )/dt =Mx(t ) + b. We show that our algorithm exhibits an\n",
    "exponential speedup over its classical counterpart in certain circumstances, and a gate-based quantum circuit is\n",
    "produced which is friendly to the experimentalists and implementable in current quantum techniques. In addition,\n",
    "we experimentally solve a 4 × 4 linear differential equation using our quantum algorithm in a four-qubit nuclear\n",
    "magnetic resonance quantum information processor."
   ]
  },
  {
   "cell_type": "markdown",
   "metadata": {},
   "source": []
  },
  {
   "cell_type": "code",
   "execution_count": 1,
   "metadata": {},
   "outputs": [
    {
     "ename": "NameError",
     "evalue": "name 'math' is not defined",
     "output_type": "error",
     "traceback": [
      "\u001b[1;31m---------------------------------------------------------------------------\u001b[0m",
      "\u001b[1;31mNameError\u001b[0m                                 Traceback (most recent call last)",
      "Cell \u001b[1;32mIn[1], line 5\u001b[0m\n\u001b[0;32m      1\u001b[0m \u001b[38;5;66;03m# TODO Initialize ancilla registers with the correct quantum states\u001b[39;00m\n\u001b[0;32m      2\u001b[0m \u001b[38;5;66;03m# NOTE Our b vector is zero, therefore C-V_S2 and C-U_b do not need to be implemented, but could be for future purposes\u001b[39;00m\n\u001b[0;32m      4\u001b[0m K \u001b[38;5;241m=\u001b[39m \u001b[38;5;241m15\u001b[39m \u001b[38;5;66;03m# Accuracy of solution - subject to change\u001b[39;00m\n\u001b[1;32m----> 5\u001b[0m T \u001b[38;5;241m=\u001b[39m \u001b[43mmath\u001b[49m\u001b[38;5;241m.\u001b[39mceil(math\u001b[38;5;241m.\u001b[39mlog2(K\u001b[38;5;241m+\u001b[39m\u001b[38;5;241m1\u001b[39m))\n\u001b[0;32m      6\u001b[0m t \u001b[38;5;241m=\u001b[39m \u001b[38;5;241m0\u001b[39m \u001b[38;5;66;03m# Time of evaluation of output\u001b[39;00m\n\u001b[0;32m      8\u001b[0m \u001b[38;5;28mprint\u001b[39m(\u001b[38;5;124m\"\u001b[39m\u001b[38;5;124mRegister sizes:\u001b[39m\u001b[38;5;124m\"\u001b[39m, \u001b[38;5;241m1\u001b[39m, T, \u001b[38;5;241m1\u001b[39m)\n",
      "\u001b[1;31mNameError\u001b[0m: name 'math' is not defined"
     ]
    }
   ],
   "source": [
    "# TODO Initialize ancilla registers with the correct quantum states\n",
    "# NOTE Our b vector is zero, therefore C-V_S2 and C-U_b do not need to be implemented, but could be for future purposes\n",
    "\n",
    "K = 15 # Accuracy of solution - subject to change\n",
    "T = math.ceil(math.log2(K+1))\n",
    "t = 0 # Time of evaluation of output\n",
    "\n",
    "print(\"Register sizes:\", 1, T, 1)\n",
    "\n",
    "# TODO Create the gate C-V_S1 and apply it to prepare the ancilla qubits\n",
    "@qfunc\n",
    "def prepare_ancilla_regs(ancilla_reg_1: QBit, ancilla_reg_2: QBit):\n",
    "   pass\n",
    "\n",
    "# TODO Create the gate C-Ux and apply it to encode |x0> into the work register\n",
    "@qfunc\n",
    "def encode_x0(ancilla_reg_1: QBit, work_reg: QBit):\n",
    "   pass\n",
    "\n",
    "@qfunc\n",
    "def create_entanglement(ancilla_reg_2: QNum, work_reg: QBit):\n",
    "    repeat(\n",
    "        count=K + 1,\n",
    "        iteration=lambda i: if_(\n",
    "            condition=(i % 2 != 0),\n",
    "            then=lambda: control(\n",
    "               ctrl=(ancilla_reg_2 == i), stmt_block=lambda: Y(work_reg)\n",
    "            ),\n",
    "        ),\n",
    "    )\n",
    "\n",
    "@qfunc\n",
    "def decode():\n",
    "   pass\n",
    "\n",
    "@qfunc\n",
    "def main(ancilla_reg_1: Output[QBit], ancilla_reg_2: Output[QNum], work_reg: Output[QBit]):\n",
    "   allocate(1, ancilla_reg_1)\n",
    "   allocate(T, ancilla_reg_2)\n",
    "   allocate(1, work_reg) # 2x2 matrix, will change for higher order ODEs if we get to it\n",
    "   \n",
    "   # prepare_ancilla_regs(ancilla_reg_1, ancilla_reg_2)\n",
    "   # encode_x0(ancilla_reg_1, work_reg)\n",
    "\n",
    "   create_entanglement(ancilla_reg_2, work_reg)\n"
   ]
  },
  {
   "cell_type": "markdown",
   "metadata": {},
   "source": [
    "We notice that $U_i$ can be one of 4 matrices\n",
    "\n",
    "$U_{1 + 4k} = i Y$\n",
    "\n",
    "$U_{2 + 4k} = -I$\n",
    "\n",
    "$U_{3 + 4k} = -i Y$\n",
    "\n",
    "$U_{4 + 4k} = I$\n",
    "\n",
    "By ignoring global phase we only have 2 cases\n",
    "\n",
    "$U_{2k + 1} = Y$\n",
    "\n",
    "$U_{2k} = I$"
   ]
  },
  {
   "cell_type": "code",
   "execution_count": 143,
   "metadata": {},
   "outputs": [],
   "source": [
    "# View circuit on Classiq IDE\n",
    "qmod = create_model(main)\n",
    "qprog = synthesize(qmod)\n",
    "show(qprog)"
   ]
  },
  {
   "cell_type": "code",
   "execution_count": 6,
   "metadata": {},
   "outputs": [
    {
     "name": "stdout",
     "output_type": "stream",
     "text": [
      "Your user code: KXGC-LKWQ\n",
      "If a browser doesn't automatically open, please visit this URL from any trusted device: https://auth.classiq.io/activate?user_code=KXGC-LKWQ\n"
     ]
    }
   ],
   "source": [
    "authenticate()"
   ]
  },
  {
   "cell_type": "code",
   "execution_count": null,
   "metadata": {},
   "outputs": [],
   "source": []
  }
 ],
 "metadata": {
  "kernelspec": {
   "display_name": ".venv",
   "language": "python",
   "name": "python3"
  },
  "language_info": {
   "codemirror_mode": {
    "name": "ipython",
    "version": 3
   },
   "file_extension": ".py",
   "mimetype": "text/x-python",
   "name": "python",
   "nbconvert_exporter": "python",
   "pygments_lexer": "ipython3",
   "version": "3.12.1"
  }
 },
 "nbformat": 4,
 "nbformat_minor": 2
}
