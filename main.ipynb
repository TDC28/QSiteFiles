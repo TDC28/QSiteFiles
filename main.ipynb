{
 "cells": [
  {
   "cell_type": "code",
   "execution_count": 27,
   "metadata": {},
   "outputs": [],
   "source": [
    "from classiq import *\n",
    "import math"
   ]
  },
  {
   "cell_type": "markdown",
   "metadata": {},
   "source": [
    "# Superposition Squad\n",
    "DE: $y'' + y  = 0$ -> $\\mathcal{M} = \\begin{bmatrix} 0 & 1\\\\ -1 & 0 \\end{bmatrix} $, $x(0) = \\begin{bmatrix} 1 \\\\ 1 \\end{bmatrix}$"
   ]
  },
  {
   "cell_type": "code",
   "execution_count": 133,
   "metadata": {},
   "outputs": [
    {
     "name": "stdout",
     "output_type": "stream",
     "text": [
      "Register sizes: 1 4 1\n"
     ]
    }
   ],
   "source": [
    "# TODO Initialize ancilla registers with the correct quantum states\n",
    "# NOTE Our b vector is zero, therefore C-V_S2 and C-U_b do not need to be implemented, but could be for future purposes\n",
    "\n",
    "K = 10 # Accuracy of solution - subject to change\n",
    "T = math.ceil(math.log2(K+1))\n",
    "t = 0 # Time of evaluation of output\n",
    "\n",
    "print(\"Register sizes:\", 1, T, 1)\n",
    "\n",
    "# TODO Create the gate C-V_S1 and apply it to prepare the ancilla qubits\n",
    "@qfunc\n",
    "def prepare_ancilla_regs(ancilla_reg_1: QBit, ancilla_reg_2: QBit):\n",
    "   pass\n",
    "\n",
    "# TODO Create the gate C-Ux and apply it to encode |x0> into the work register\n",
    "@qfunc\n",
    "def encode_x0(ancilla_reg_1: QBit, work_reg: QBit):\n",
    "   pass\n",
    "\n",
    "@qfunc\n",
    "def apply_ui(iteration: CInt, ancilla_reg_2: QNum, work_reg: QBit):\n",
    "   control(ctrl=(ancilla_reg_2 == iteration), stmt_block=lambda: Y(work_reg))\n",
    "\n",
    "@qfunc\n",
    "def decode():\n",
    "   pass\n",
    "\n",
    "@qfunc\n",
    "def main(ancilla_reg_1: Output[QBit], ancilla_reg_2: Output[QNum], work_reg: Output[QBit]):\n",
    "   allocate(1, ancilla_reg_1)\n",
    "   allocate(T, ancilla_reg_2)\n",
    "   allocate(1, work_reg) # 2x2 matrix, will change for higher order ODEs if we get to it\n",
    "   \n",
    "   # prepare_ancilla_regs(ancilla_reg_1, ancilla_reg_2)\n",
    "   # encode_x0(ancilla_reg_1, work_reg)\n",
    "\n",
    "   repeat(count=K+1, iteration=lambda i: if_(condition=(i % 2 != 0), then=lambda: apply_ui(i, ancilla_reg_2, work_reg)))\n"
   ]
  },
  {
   "cell_type": "markdown",
   "metadata": {},
   "source": [
    "We notice that $U_i$ can be one of 4 matrices\n",
    "\n",
    "$U_{1 + 4k} = i Y$\n",
    "\n",
    "$U_{2 + 4k} = -I$\n",
    "\n",
    "$U_{3 + 4k} = -i Y$\n",
    "\n",
    "$U_{4 + 4k} = I$\n",
    "\n",
    "By ignoring global phase we only have 2 cases\n",
    "\n",
    "$U_{2k + 1} = Y$\n",
    "\n",
    "$U_{2k} = I$"
   ]
  },
  {
   "cell_type": "code",
   "execution_count": 134,
   "metadata": {},
   "outputs": [],
   "source": [
    "# View circuit on Classiq IDE\n",
    "qmod = create_model(main)\n",
    "qprog = synthesize(qmod)\n",
    "show(qprog)"
   ]
  },
  {
   "cell_type": "code",
   "execution_count": null,
   "metadata": {},
   "outputs": [],
   "source": []
  }
 ],
 "metadata": {
  "kernelspec": {
   "display_name": ".venv",
   "language": "python",
   "name": "python3"
  },
  "language_info": {
   "codemirror_mode": {
    "name": "ipython",
    "version": 3
   },
   "file_extension": ".py",
   "mimetype": "text/x-python",
   "name": "python",
   "nbconvert_exporter": "python",
   "pygments_lexer": "ipython3",
   "version": "3.11.10"
  }
 },
 "nbformat": 4,
 "nbformat_minor": 2
}
