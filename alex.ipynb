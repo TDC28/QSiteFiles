{
 "cells": [
  {
   "cell_type": "code",
   "execution_count": 4,
   "metadata": {},
   "outputs": [],
   "source": [
    "from classiq import *\n",
    "import numpy as np\n",
    "import math"
   ]
  },
  {
   "cell_type": "code",
   "execution_count": 16,
   "metadata": {},
   "outputs": [
    {
     "data": {
      "text/plain": [
       "1.2471019068545821e-05"
      ]
     },
     "execution_count": 16,
     "metadata": {},
     "output_type": "execute_result"
    }
   ],
   "source": [
    "x0 = np.array([1, 1])\n",
    "M = np.array([[0, 1], [-1, 0]])\n",
    "k = 10\n",
    "t = 1\n",
    "\n",
    "def C(m):\n",
    "   return np.linalg.norm(x0) * (np.linalg.norm(M) * t) ** m / math.factorial(m)\n",
    "\n",
    "N = math.sqrt(sum([C(i) for i in range(k)]))\n",
    "\n",
    "\n",
    "C(10)"
   ]
  },
  {
   "cell_type": "code",
   "execution_count": 17,
   "metadata": {},
   "outputs": [
    {
     "name": "stdout",
     "output_type": "stream",
     "text": [
      "Register sizes: 1 4 1\n"
     ]
    }
   ],
   "source": [
    "# TODO Initialize ancilla registers with the correct quantum states\n",
    "# NOTE Our b vector is zero, therefore C-V_S2 and C-U_b do not need to be implemented, but could be for future purposes\n",
    "\n",
    "K = 10 # Accuracy of solution - subject to change\n",
    "T = math.ceil(math.log2(K+1))\n",
    "t = 0 # Time of evaluation of output\n",
    "\n",
    "print(\"Register sizes:\", 1, T, 1)\n",
    "\n",
    "# TODO Create the gate C-V_S1 and apply it to prepare the ancilla qubits\n",
    "@qfunc\n",
    "def prepare_ancilla_regs(ancilla_reg_1: QBit, ancilla_reg_2: QBit):\n",
    "   pass\n",
    "\n",
    "# TODO Create the gate C-Ux and apply it to encode |x0> into the work register\n",
    "@qfunc\n",
    "def encode_x0(ancilla_reg_1: QBit, work_reg: QBit):\n",
    "   pass\n",
    "\n",
    "@qfunc\n",
    "def create_entanglement(ancilla_reg_2: QNum, work_reg: QBit):\n",
    "   repeat(\n",
    "      count=K + 1,\n",
    "      iteration=lambda i: if_(\n",
    "         condition=(i % 2 != 0),\n",
    "         then=lambda: control(\n",
    "               ctrl=(ancilla_reg_2 == i), stmt_block=lambda: Y(work_reg)\n",
    "            ),\n",
    "         ),\n",
    "      )\n",
    "\n",
    "@qfunc\n",
    "def decode():\n",
    "   pass\n",
    "\n",
    "@qfunc\n",
    "def main(ancilla_reg_1: Output[QBit], ancilla_reg_2: Output[QNum], work_reg: Output[QBit]):\n",
    "   allocate(1, ancilla_reg_1)\n",
    "   allocate(T, ancilla_reg_2)\n",
    "   allocate(1, work_reg) # 2x2 matrix, will change for higher order ODEs if we get to it\n",
    "   \n",
    "   # prepare_ancilla_regs(ancilla_reg_1, ancilla_reg_2)\n",
    "   # encode_x0(ancilla_reg_1, work_reg)\n",
    "\n",
    "   create_entanglement(ancilla_reg_2, work_reg)"
   ]
  },
  {
   "cell_type": "code",
   "execution_count": 3,
   "metadata": {},
   "outputs": [],
   "source": [
    "# View circuit on Classiq IDE\n",
    "qmod = create_model(main)\n",
    "qprog = synthesize(qmod)\n",
    "show(qprog)"
   ]
  },
  {
   "cell_type": "code",
   "execution_count": null,
   "metadata": {},
   "outputs": [],
   "source": []
  }
 ],
 "metadata": {
  "kernelspec": {
   "display_name": ".venv",
   "language": "python",
   "name": "python3"
  },
  "language_info": {
   "codemirror_mode": {
    "name": "ipython",
    "version": 3
   },
   "file_extension": ".py",
   "mimetype": "text/x-python",
   "name": "python",
   "nbconvert_exporter": "python",
   "pygments_lexer": "ipython3",
   "version": "3.11.10"
  }
 },
 "nbformat": 4,
 "nbformat_minor": 2
}
