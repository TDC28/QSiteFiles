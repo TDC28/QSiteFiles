{
 "cells": [
  {
   "cell_type": "code",
   "execution_count": 18,
   "metadata": {},
   "outputs": [],
   "source": [
    "from classiq import *\n",
    "import numpy as np\n",
    "import math"
   ]
  },
  {
   "cell_type": "code",
   "execution_count": 23,
   "metadata": {},
   "outputs": [],
   "source": [
    "# Assuming these won't change\n",
    "x0 = np.array([1, 1])\n",
    "M = np.array([[0, 1], [-1, 0]])\n",
    "\n",
    "# Free to change variables\n",
    "t = 1\n",
    "K = 10 # Accuracy of solution - subject to change\n",
    "T = math.ceil(math.log2(K+1))\n"
   ]
  },
  {
   "cell_type": "code",
   "execution_count": 76,
   "metadata": {},
   "outputs": [
    {
     "name": "stdout",
     "output_type": "stream",
     "text": [
      "0.24311681029618354\n",
      "0.3438190903617498\n",
      "0.24311681029618354\n",
      "0.11460636345391655\n",
      "0.04051946838269726\n",
      "0.011460636345391654\n",
      "0.002701297892179818\n",
      "0.0005457445878757933\n",
      "9.647492472070776e-05\n",
      "1.5159571885438699e-05\n",
      "2.1438872160157283e-06\n",
      "0\n",
      "0\n",
      "0\n",
      "0\n",
      "0\n"
     ]
    }
   ],
   "source": [
    "def C(m):\n",
    "   return 2 ** ((m + 1) / 2) * t ** m / math.factorial(m)\n",
    "\n",
    "N = math.sqrt(sum([C(i) for i in range(K+1)]))\n",
    "\n",
    "state = []\n",
    "\n",
    "for i in range(2 ** T):\n",
    "   if len(state) < K + 1:\n",
    "      state.append(math.sqrt(C(i)) / N)\n",
    "\n",
    "   else:\n",
    "      state.append(0)\n",
    "\n",
    "for n in state:\n",
    "   print(n ** 2)"
   ]
  },
  {
   "cell_type": "code",
   "execution_count": 79,
   "metadata": {},
   "outputs": [
    {
     "name": "stdout",
     "output_type": "stream",
     "text": [
      "Register sizes: 1 4 1\n"
     ]
    }
   ],
   "source": [
    "# TODO Initialize ancilla registers with the correct quantum states\n",
    "# NOTE Our b vector is zero, therefore C-V_S2 and C-U_b do not need to be implemented, but could be for future purposes\n",
    "\n",
    "\n",
    "print(\"Register sizes:\", 1, T, 1)\n",
    "\n",
    "@qfunc\n",
    "def encode_stage(ancilla_reg_1: QBit, ancilla_reg_2: QNum, work_reg: QBit):\n",
    "\n",
    "   def C(m):\n",
    "      return 2 ** ((m + 1) / 2) * t ** m / math.factorial(m)\n",
    "\n",
    "   state = []\n",
    "\n",
    "   for i in range(2 ** T):\n",
    "      if len(state) < K + 1:\n",
    "         state.append(math.sqrt(C(i)))\n",
    "\n",
    "      else:\n",
    "         state.append(0)\n",
    "\n",
    "   state = np.array(state) / np.linalg.norm(state)\n",
    "      \n",
    "   Z(ancilla_reg_1)\n",
    "   inplace_prepare_amplitudes(amplitudes=state.tolist(), bound=0.001, target=ancilla_reg_2)\n",
    "   H(work_reg)\n",
    "\n",
    "\n",
    "@qfunc\n",
    "def create_entanglement(ancilla_reg_2: QNum, work_reg: QBit):\n",
    "   repeat(\n",
    "      count=K + 1,\n",
    "      iteration=lambda i: if_(\n",
    "         condition=(i % 2 != 0),\n",
    "         then=lambda: control(\n",
    "               ctrl=(ancilla_reg_2 == i), stmt_block=lambda: Y(work_reg)\n",
    "            ),\n",
    "         ),\n",
    "      )\n",
    "\n",
    "@qfunc\n",
    "def decode():\n",
    "   pass\n",
    "\n",
    "@qfunc\n",
    "def main(ancilla_reg_1: Output[QBit], ancilla_reg_2: Output[QNum], work_reg: Output[QBit]):\n",
    "   allocate(1, ancilla_reg_1)\n",
    "   allocate(T, ancilla_reg_2)\n",
    "   allocate(1, work_reg) # 2x2 matrix, will change for higher order ODEs if we get to it\n",
    "\n",
    "   encode_stage(ancilla_reg_1, ancilla_reg_2, work_reg)\n",
    "   create_entanglement(ancilla_reg_2, work_reg)"
   ]
  },
  {
   "cell_type": "code",
   "execution_count": 80,
   "metadata": {},
   "outputs": [],
   "source": [
    "# View circuit on Classiq IDE\n",
    "qmod = create_model(main)\n",
    "qprog = synthesize(qmod)\n",
    "show(qprog)"
   ]
  },
  {
   "cell_type": "code",
   "execution_count": 67,
   "metadata": {},
   "outputs": [],
   "source": []
  },
  {
   "cell_type": "code",
   "execution_count": 68,
   "metadata": {},
   "outputs": [
    {
     "ename": "AttributeError",
     "evalue": "'numpy.ndarray' object has no attribute 'append'",
     "output_type": "error",
     "traceback": [
      "\u001b[0;31m---------------------------------------------------------------------------\u001b[0m",
      "\u001b[0;31mAttributeError\u001b[0m                            Traceback (most recent call last)",
      "Cell \u001b[0;32mIn[68], line 1\u001b[0m\n\u001b[0;32m----> 1\u001b[0m \u001b[43mtest\u001b[49m\u001b[38;5;241;43m.\u001b[39;49m\u001b[43mappend\u001b[49m(\u001b[38;5;124m\"\u001b[39m\u001b[38;5;124mhel\u001b[39m\u001b[38;5;124m\"\u001b[39m)\n",
      "\u001b[0;31mAttributeError\u001b[0m: 'numpy.ndarray' object has no attribute 'append'"
     ]
    }
   ],
   "source": []
  },
  {
   "cell_type": "code",
   "execution_count": 73,
   "metadata": {},
   "outputs": [
    {
     "data": {
      "text/plain": [
       "2.23606797749979"
      ]
     },
     "execution_count": 73,
     "metadata": {},
     "output_type": "execute_result"
    }
   ],
   "source": [
    "a = [1, 2]\n",
    "\n",
    "np.linalg.norm(a)"
   ]
  },
  {
   "cell_type": "code",
   "execution_count": null,
   "metadata": {},
   "outputs": [],
   "source": []
  }
 ],
 "metadata": {
  "kernelspec": {
   "display_name": ".venv",
   "language": "python",
   "name": "python3"
  },
  "language_info": {
   "codemirror_mode": {
    "name": "ipython",
    "version": 3
   },
   "file_extension": ".py",
   "mimetype": "text/x-python",
   "name": "python",
   "nbconvert_exporter": "python",
   "pygments_lexer": "ipython3",
   "version": "3.11.10"
  }
 },
 "nbformat": 4,
 "nbformat_minor": 2
}
