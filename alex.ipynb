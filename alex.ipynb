{
 "cells": [
  {
   "cell_type": "code",
   "execution_count": 28,
   "metadata": {},
   "outputs": [],
   "source": [
    "from classiq import *\n",
    "import numpy as np\n",
    "import math"
   ]
  },
  {
   "cell_type": "code",
   "execution_count": 30,
   "metadata": {},
   "outputs": [],
   "source": [
    "x0 = np.array([1, 1])\n",
    "M = np.array([[0, 1], [-1, 0]])\n",
    "\n",
    "# Free to change variables\n",
    "t = 0.1\n",
    "K = 7 # Accuracy of solution - k+1 must be a multiple of 2\n",
    "T = math.ceil(math.log2(K+1))"
   ]
  },
  {
   "cell_type": "code",
   "execution_count": 41,
   "metadata": {},
   "outputs": [],
   "source": [
    "def C(m):\n",
    "   return 2 ** ((m + 1) / 2) * t ** m / math.factorial(m)\n",
    "\n",
    "N = math.sqrt(sum([C(i) for i in range(K+1)])) # This also equals to $\\mathcal{C}$ in the paper"
   ]
  },
  {
   "cell_type": "code",
   "execution_count": 21,
   "metadata": {},
   "outputs": [],
   "source": [
    "def proj(v1, v2):\n",
    "    \"\"\"Calculates the projection of v1 onto v2\"\"\"\n",
    "    return np.dot(v1, v2) / np.dot(v2, v2) * np.array(v2)\n",
    "\n",
    "def generate_encode_unitaries():\n",
    "    \"\"\"\n",
    "    Performs Gram Schmidt procedure to create VS1 and WS1\n",
    "    \n",
    "    NOTE: The way it is currently implemented K+1 must be a multiple of 2 to\n",
    "        guarantee obtaining a unitary matrix\n",
    "    \"\"\"\n",
    "    state = []\n",
    "\n",
    "    for i in range(2 ** T):\n",
    "        if len(state) < K + 1:\n",
    "            state.append(math.sqrt(C(i)) / N)\n",
    "\n",
    "        else:\n",
    "            state.append(0)\n",
    "\n",
    "    WS1 = [state]\n",
    "    \n",
    "    for i in range(2 ** T):\n",
    "        basis_v = [0 for _ in range(2 ** T)]\n",
    "        basis_v[i] = 1\n",
    "        s = np.array(basis_v[:])\n",
    "    \n",
    "        for v in WS1:\n",
    "            s = s - proj(s, v)\n",
    "    \n",
    "        if np.linalg.norm(s) != 0:\n",
    "            s = s / np.linalg.norm(s)\n",
    "            WS1.append(s.tolist())\n",
    "        \n",
    "    WS1 = WS1[:2 ** T]\n",
    "    VS1 = np.transpose(WS1).tolist()\n",
    "\n",
    "    return (VS1, WS1)"
   ]
  },
  {
   "cell_type": "code",
   "execution_count": 22,
   "metadata": {},
   "outputs": [
    {
     "name": "stdout",
     "output_type": "stream",
     "text": [
      "Register sizes: 1 3 1\n"
     ]
    }
   ],
   "source": [
    "# TODO Initialize ancilla registers with the correct quantum states\n",
    "# NOTE Our b vector is zero, therefore C-V_S2 and C-U_b do not need to be implemented, but could be for future purposes\n",
    "\n",
    "\n",
    "print(\"Register sizes:\", 1, T, 1)\n",
    "VS1, WS1 = generate_encode_unitaries()\n",
    "\n",
    "@qfunc\n",
    "def main(ancilla_reg: Output[QNum], work_reg: Output[QBit]):\n",
    "   allocate(T, ancilla_reg)\n",
    "   allocate(1, work_reg)\n",
    "\n",
    "   # Encode stage\n",
    "   unitary(VS1, ancilla_reg)\n",
    "   H(work_reg)\n",
    "\n",
    "   # Generate entanglement\n",
    "   repeat(\n",
    "      count=K + 1,\n",
    "      iteration=lambda i: if_(\n",
    "         condition=(i % 2 != 0),\n",
    "         then=lambda: control(\n",
    "               ctrl=(ancilla_reg == i), stmt_block=lambda: Y(work_reg)\n",
    "            ),\n",
    "         ),\n",
    "      )\n",
    "   \n",
    "   # Decode stage\n",
    "   unitary(WS1, ancilla_reg)"
   ]
  },
  {
   "cell_type": "code",
   "execution_count": 40,
   "metadata": {},
   "outputs": [
    {
     "data": {
      "image/png": "[encoded data removed]",
      "text/plain": [
       "<Figure size 640x480 with 1 Axes>"
      ]
     },
     "metadata": {},
     "output_type": "display_data"
    }
   ],
   "source": [
    "import matplotlib.pyplot as plt\n",
    "\n",
    "t_vals = np.linspace(0.4, 0.8, 7)\n",
    "y_vals = []\n",
    "for t in t_vals:\n",
    "   qmod = create_model(main)\n",
    "   qprog = synthesize(qmod)\n",
    "   job = execute(qprog)\n",
    "   results = job.result()[0].value.parsed_counts\n",
    "\n",
    "   for r in results:\n",
    "      if r.state['ancilla_reg'] == 0 and r.state['work_reg'] == 1:\n",
    "         y_vals.append(math.sqrt(r.shots / 2048) * N ** 2)\n",
    "\n",
    "plt.plot(t_vals, y_vals, label=\"Quantum solution\")\n",
    "plt.plot(t_vals, np.sin(t_vals) + np.cos(t_vals), label=\"Quantum solution\")\n",
    "plt.legend()\n",
    "plt.show()"
   ]
  },
  {
   "cell_type": "code",
   "execution_count": 42,
   "metadata": {},
   "outputs": [
    {
     "data": {
      "text/plain": [
       "0.8"
      ]
     },
     "execution_count": 42,
     "metadata": {},
     "output_type": "execute_result"
    }
   ],
   "source": [
    "t"
   ]
  },
  {
   "cell_type": "code",
   "execution_count": 44,
   "metadata": {},
   "outputs": [],
   "source": [
    "write_qmod(create_model(main), \"t=0.8-k=7\")"
   ]
  },
  {
   "cell_type": "code",
   "execution_count": null,
   "metadata": {},
   "outputs": [],
   "source": []
  }
 ],
 "metadata": {
  "kernelspec": {
   "display_name": "Python 3 (ipykernel)",
   "language": "python",
   "name": "python3"
  },
  "language_info": {
   "codemirror_mode": {
    "name": "ipython",
    "version": 3
   },
   "file_extension": ".py",
   "mimetype": "text/x-python",
   "name": "python",
   "nbconvert_exporter": "python",
   "pygments_lexer": "ipython3",
   "version": "3.12.1"
  }
 },
 "nbformat": 4,
 "nbformat_minor": 4
}
