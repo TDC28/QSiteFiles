{
 "cells": [
  {
   "cell_type": "code",
   "execution_count": 137,
   "metadata": {},
   "outputs": [],
   "source": [
    "from classiq import *\n",
    "import numpy as np\n",
    "import math"
   ]
  },
  {
   "cell_type": "code",
   "execution_count": 221,
   "metadata": {},
   "outputs": [],
   "source": [
    "# Assuming these won't change\n",
    "x0 = np.array([1, 1])\n",
    "M = np.array([[0, 1], [-1, 0]])\n",
    "\n",
    "# Free to change variables\n",
    "t = 0.1\n",
    "K = 7# Accuracy of solution - subject to change\n",
    "T = math.ceil(math.log2(K+1))"
   ]
  },
  {
   "cell_type": "code",
   "execution_count": 222,
   "metadata": {},
   "outputs": [
    {
     "name": "stdout",
     "output_type": "stream",
     "text": [
      "8\n",
      "[8.68123445e-01 1.22771195e-01 8.68123445e-03 4.09237317e-04\n",
      " 1.44687241e-05 4.09237317e-07 9.64581606e-09 1.94874913e-10]\n"
     ]
    }
   ],
   "source": [
    "def C(m):\n",
    "   return 2 ** ((m + 1) / 2) * t ** m / math.factorial(m)\n",
    "\n",
    "N = math.sqrt(sum([C(i) for i in range(K+1)])) # This also equals to $\\mathcal{C}$ in the paper\n",
    "\n",
    "state = []\n",
    "print(2 ** T)\n",
    "for i in range(2 ** T):\n",
    "   if len(state) < K + 1:\n",
    "      state.append(math.sqrt(C(i)) / N)\n",
    "\n",
    "   else:\n",
    "      state.append(0)\n",
    "\n",
    "print(np.array(state) ** 2)"
   ]
  },
  {
   "cell_type": "code",
   "execution_count": 223,
   "metadata": {},
   "outputs": [],
   "source": [
    "def proj(v1, v2):\n",
    "    \"\"\"Calculates the projection of v1 onto v2\"\"\"\n",
    "    return np.dot(v1, v2) / np.dot(v2, v2) * np.array(v2)\n",
    "\n",
    "def gram_schmidt():\n",
    "    \"\"\"\n",
    "    Performs Gram Schmidt procedure to create VS1 and WS1\n",
    "    \n",
    "    NOTE: The way it is currently implemented K+1 must be a multiple of 2 to\n",
    "        guarantee obtaining a unitary matrix\n",
    "    \"\"\"\n",
    "    WS1 = [state]\n",
    "    \n",
    "    for i in range(2 ** T):\n",
    "        basis_v = [0 for _ in range(2 ** T)]\n",
    "        basis_v[i] = 1\n",
    "        s = np.array(basis_v[:])\n",
    "    \n",
    "        for v in WS1:\n",
    "            s = s - proj(s, v)\n",
    "    \n",
    "        if np.linalg.norm(s) != 0:\n",
    "            s = s / np.linalg.norm(s)\n",
    "            WS1.append(s.tolist())\n",
    "        \n",
    "    WS1 = WS1[:2 ** T]\n",
    "    VS1 = np.transpose(WS1).tolist()\n",
    "\n",
    "    return (VS1, WS1)"
   ]
  },
  {
   "cell_type": "code",
   "execution_count": 224,
   "metadata": {},
   "outputs": [
    {
     "name": "stdout",
     "output_type": "stream",
     "text": [
      "Register sizes: 1 3 1\n"
     ]
    }
   ],
   "source": [
    "# TODO Initialize ancilla registers with the correct quantum states\n",
    "# NOTE Our b vector is zero, therefore C-V_S2 and C-U_b do not need to be implemented, but could be for future purposes\n",
    "\n",
    "\n",
    "print(\"Register sizes:\", 1, T, 1)\n",
    "VS1, WS1 = gram_schmidt()\n",
    "\n",
    "@qfunc\n",
    "def encode_stage(ancilla_reg_1: QBit, ancilla_reg_2: QNum, work_reg: QBit):\n",
    "    # Z(ancilla_reg_1)\n",
    "    unitary(VS1, ancilla_reg_2)\n",
    "    H(work_reg)\n",
    "\n",
    "\n",
    "@qfunc\n",
    "def create_entanglement(ancilla_reg_2: QNum, work_reg: QBit):\n",
    "   repeat(\n",
    "      count=K + 1,\n",
    "      iteration=lambda i: if_(\n",
    "         condition=(i % 2 != 0),\n",
    "         then=lambda: control(\n",
    "               ctrl=(ancilla_reg_2 == i), stmt_block=lambda: Y(work_reg)\n",
    "            ),\n",
    "         ),\n",
    "      )\n",
    "\n",
    "@qfunc\n",
    "def main(ancilla_reg_1: Output[QBit], ancilla_reg_2: Output[QNum], work_reg: Output[QBit]):\n",
    "   allocate(1, ancilla_reg_1)\n",
    "   allocate(T, ancilla_reg_2)\n",
    "   allocate(1, work_reg) # 2x2 matrix, will change for higher order ODEs if we get to it\n",
    "\n",
    "   encode_stage(ancilla_reg_1, ancilla_reg_2, work_reg)\n",
    "   create_entanglement(ancilla_reg_2, work_reg)\n",
    "   unitary(WS1, ancilla_reg_2)\n",
    "   # Z(ancilla_reg_1)"
   ]
  },
  {
   "cell_type": "code",
   "execution_count": 225,
   "metadata": {},
   "outputs": [
    {
     "data": {
      "text/plain": [
       "[{'ancilla_reg_1': 0.0, 'ancilla_reg_2': 0.0, 'work_reg': 0.0}: 844,\n",
       " {'ancilla_reg_1': 0.0, 'ancilla_reg_2': 0.0, 'work_reg': 1.0}: 770,\n",
       " {'ancilla_reg_1': 0.0, 'ancilla_reg_2': 1.0, 'work_reg': 0.0}: 210,\n",
       " {'ancilla_reg_1': 0.0, 'ancilla_reg_2': 1.0, 'work_reg': 1.0}: 193,\n",
       " {'ancilla_reg_1': 0.0, 'ancilla_reg_2': 2.0, 'work_reg': 1.0}: 15,\n",
       " {'ancilla_reg_1': 0.0, 'ancilla_reg_2': 2.0, 'work_reg': 0.0}: 11,\n",
       " {'ancilla_reg_1': 0.0, 'ancilla_reg_2': 3.0, 'work_reg': 0.0}: 2,\n",
       " {'ancilla_reg_1': 0.0, 'ancilla_reg_2': 3.0, 'work_reg': 1.0}: 2,\n",
       " {'ancilla_reg_1': 0.0, 'ancilla_reg_2': 4.0, 'work_reg': 0.0}: 1]"
      ]
     },
     "execution_count": 225,
     "metadata": {},
     "output_type": "execute_result"
    }
   ],
   "source": [
    "# View circuit on Classiq IDE\n",
    "qmod = create_model(main)\n",
    "qprog = synthesize(qmod)\n",
    "job = execute(qprog)\n",
    "results = job.result()[0].value.parsed_counts\n",
    "results"
   ]
  },
  {
   "cell_type": "code",
   "execution_count": 227,
   "metadata": {},
   "outputs": [
    {
     "name": "stdout",
     "output_type": "stream",
     "text": [
      "Solution at time t = 0.1 : 0.6124833474326662\n"
     ]
    }
   ],
   "source": [
    "# Solution at time t\n",
    "# Currently incorrect. Need to figure our what to do when solution is negative.\n",
    "for r in results:\n",
    "    if r.state['ancilla_reg_2'] == 0 and r.state['work_reg'] == 1:\n",
    "        print(f\"Solution at time t = {t} : {r.shots * N ** 2 / 2048}\")"
   ]
  }
 ],
 "metadata": {
  "kernelspec": {
   "display_name": "Python 3 (ipykernel)",
   "language": "python",
   "name": "python3"
  },
  "language_info": {
   "codemirror_mode": {
    "name": "ipython",
    "version": 3
   },
   "file_extension": ".py",
   "mimetype": "text/x-python",
   "name": "python",
   "nbconvert_exporter": "python",
   "pygments_lexer": "ipython3",
   "version": "3.11.10"
  }
 },
 "nbformat": 4,
 "nbformat_minor": 4
}
