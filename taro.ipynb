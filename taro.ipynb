{
 "cells": [
  {
   "cell_type": "code",
   "id": "initial_id",
   "metadata": {
    "collapsed": true,
    "ExecuteTime": {
     "end_time": "2024-09-25T14:12:42.244964Z",
     "start_time": "2024-09-25T14:12:42.240124Z"
    }
   },
   "source": [
    "from classiq import *\n",
    "import numpy as np\n",
    "import math\n"
   ],
   "outputs": [],
   "execution_count": 9
  },
  {
   "metadata": {
    "ExecuteTime": {
     "end_time": "2024-09-25T14:12:42.556141Z",
     "start_time": "2024-09-25T14:12:42.549806Z"
    }
   },
   "cell_type": "code",
   "source": [
    "# Assuming these won't change\n",
    "x0 = np.array([1, 1])\n",
    "M = np.array([[0, 1], [-1, 0]])\n",
    "\n",
    "# Free to change variables\n",
    "t = 1\n",
    "K = 10 # Accuracy of solution - subject to change\n",
    "T = math.ceil(math.log2(K+1))\n"
   ],
   "id": "c71fa713a338a068",
   "outputs": [],
   "execution_count": 10
  },
  {
   "metadata": {
    "ExecuteTime": {
     "end_time": "2024-09-25T14:12:42.934806Z",
     "start_time": "2024-09-25T14:12:42.927431Z"
    }
   },
   "cell_type": "code",
   "source": [
    "\n",
    "G = [0] * (2**T)\n",
    "G[0] = 1\n",
    "print(G)"
   ],
   "id": "201410108812c2d0",
   "outputs": [
    {
     "name": "stdout",
     "output_type": "stream",
     "text": [
      "[1, 0, 0, 0, 0, 0, 0, 0, 0, 0, 0, 0, 0, 0, 0, 0]\n"
     ]
    }
   ],
   "execution_count": 11
  },
  {
   "metadata": {
    "ExecuteTime": {
     "end_time": "2024-09-25T14:12:43.509548Z",
     "start_time": "2024-09-25T14:12:43.499245Z"
    }
   },
   "cell_type": "code",
   "source": [
    "\n",
    "@qfunc\n",
    "def encode_stage(ancilla_reg_1: QBit, ancilla_reg_2: QNum, work_reg: QBit):\n",
    "\n",
    "   def C(m):\n",
    "      return 2 ** ((m + 1) / 2) * t ** m / math.factorial(m)\n",
    "\n",
    "   state = []\n",
    "\n",
    "   for i in range(2 ** T):\n",
    "      if len(state) < K + 1:\n",
    "         state.append(math.sqrt(C(i)))\n",
    "\n",
    "      else:\n",
    "         state.append(0)\n",
    "\n",
    "   state = np.array(state) / np.linalg.norm(state)\n",
    "      \n",
    "   Z(ancilla_reg_1)\n",
    "   inplace_prepare_amplitudes(amplitudes=state.tolist(), bound=0.001, target=ancilla_reg_2)\n",
    "   H(work_reg)\n",
    "\n",
    "\n",
    "\n",
    "   \n",
    "@qfunc\n",
    "def create_entanglement(ancilla_reg_2: QNum, work_reg: QBit):\n",
    "   repeat(\n",
    "      count=K + 1,\n",
    "      iteration=lambda i: if_(\n",
    "         condition=(i % 2 != 0),\n",
    "         then=lambda: control(\n",
    "               ctrl=(ancilla_reg_2 == i), stmt_block=lambda: Y(work_reg)\n",
    "            ),\n",
    "         ),\n",
    "      )\n",
    "\n",
    "@qfunc\n",
    "def decode_stage(ancilla_reg_1: QBit, ancilla_reg_2: QNum, work_reg: QBit):\n",
    "\n",
    "   state = [0] * (2 ** T)\n",
    "   state[0] = 1\n",
    "   \n",
    "   Z(ancilla_reg_1)\n",
    "   inplace_prepare_amplitudes(amplitudes=state, bound=0.0, target=ancilla_reg_2)\n",
    "   "
   ],
   "id": "f7948e9a74c4ea4c",
   "outputs": [],
   "execution_count": 12
  },
  {
   "metadata": {
    "ExecuteTime": {
     "end_time": "2024-09-25T16:20:26.452432Z",
     "start_time": "2024-09-25T16:20:26.441122Z"
    }
   },
   "cell_type": "code",
   "source": [
    "@qfunc\n",
    "def main(ancilla_reg_1: Output[QBit], ancilla_reg_2: Output[QNum], work_reg: Output[QBit]):\n",
    "   allocate(CInt(\"1\"), ancilla_reg_1)\n",
    "   allocate(T, ancilla_reg_2)\n",
    "   allocate(1, work_reg) # 2x2 matrix, will change for higher order ODEs if we get to it\n",
    "\n",
    "   encode_stage(ancilla_reg_1, ancilla_reg_2, work_reg)\n",
    "   create_entanglement(ancilla_reg_2, work_reg)\n",
    "   decode_stage(ancilla_reg_1, ancilla_reg_2, work_reg)"
   ],
   "id": "c9525bfb16340a85",
   "outputs": [],
   "execution_count": 21
  },
  {
   "metadata": {
    "ExecuteTime": {
     "end_time": "2024-09-25T16:20:32.742825Z",
     "start_time": "2024-09-25T16:20:27.621650Z"
    }
   },
   "cell_type": "code",
   "source": [
    "# View circuit on Classiq IDE\n",
    "qmod = create_model(main)\n",
    "qprog = synthesize(qmod)\n",
    "show(qprog)"
   ],
   "id": "99d747d8baf01182",
   "outputs": [],
   "execution_count": 22
  },
  {
   "metadata": {},
   "cell_type": "code",
   "outputs": [],
   "execution_count": null,
   "source": "",
   "id": "7521be4a9991ecb9"
  }
 ],
 "metadata": {
  "kernelspec": {
   "display_name": "Python 3",
   "language": "python",
   "name": "python3"
  },
  "language_info": {
   "codemirror_mode": {
    "name": "ipython",
    "version": 2
   },
   "file_extension": ".py",
   "mimetype": "text/x-python",
   "name": "python",
   "nbconvert_exporter": "python",
   "pygments_lexer": "ipython2",
   "version": "2.7.6"
  }
 },
 "nbformat": 4,
 "nbformat_minor": 5
}
